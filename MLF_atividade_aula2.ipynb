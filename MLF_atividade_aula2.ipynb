{
  "nbformat": 4,
  "nbformat_minor": 0,
  "metadata": {
    "colab": {
      "provenance": [],
      "toc_visible": true,
      "include_colab_link": true
    },
    "kernelspec": {
      "name": "python3",
      "display_name": "Python 3"
    },
    "language_info": {
      "name": "python"
    }
  },
  "cells": [
    {
      "cell_type": "markdown",
      "metadata": {
        "id": "view-in-github",
        "colab_type": "text"
      },
      "source": [
        "<a href=\"https://colab.research.google.com/github/pamlima00/mba_dsa/blob/mlf/MLF_atividade_aula2.ipynb\" target=\"_parent\"><img src=\"https://colab.research.google.com/assets/colab-badge.svg\" alt=\"Open In Colab\"/></a>"
      ]
    },
    {
      "cell_type": "markdown",
      "source": [
        "# Trabalho em grupo\n",
        "\n",
        "Instruções importantes:\n",
        "\n",
        "* Façam uma cópia deste notebook e **enviem o link** dele respondido no sistema.\n",
        "* Incluam no notebook o nome de todos os integrantes do grupo, assim como está no sistema da impacta\n",
        "* O trabalho é para ser feito em grupo de 3 a 5 pessoas\n",
        "* Todas as respostas devem apresentar o código que foi utilizado.\n",
        "* A resposta deve ser contida no espaço abaixo da pergunta a que se refere e a cima das perguntas seguintes. **Organização importa**\n",
        "* Só uma pessoa do grupo deve enviar o trabalho.\n",
        "* Prazo para o trabalho está no sistema\n",
        "* Qualquer dúvida estou a disposição :D"
      ],
      "metadata": {
        "id": "xCydPufEWDCI"
      }
    },
    {
      "cell_type": "markdown",
      "source": [
        "## Primeiro passo\n",
        "\n",
        "Baixe o dataset com o comando a baixo"
      ],
      "metadata": {
        "id": "_iqBwn6vWH2l"
      }
    },
    {
      "cell_type": "code",
      "execution_count": null,
      "metadata": {
        "colab": {
          "base_uri": "https://localhost:8080/"
        },
        "id": "mYQhxXlEVXVm",
        "outputId": "edde5395-ac69-41b5-8e79-6f98a1e62bc0"
      },
      "outputs": [
        {
          "output_type": "stream",
          "name": "stdout",
          "text": [
            "--2025-01-22 14:08:33--  https://raw.githubusercontent.com/alexeygrigorev/datasets/master/laptops.csv\n",
            "Resolving raw.githubusercontent.com (raw.githubusercontent.com)... 185.199.108.133, 185.199.109.133, 185.199.110.133, ...\n",
            "Connecting to raw.githubusercontent.com (raw.githubusercontent.com)|185.199.108.133|:443... connected.\n",
            "HTTP request sent, awaiting response... 200 OK\n",
            "Length: 298573 (292K) [text/plain]\n",
            "Saving to: ‘laptops.csv’\n",
            "\n",
            "laptops.csv         100%[===================>] 291.58K  --.-KB/s    in 0.02s   \n",
            "\n",
            "2025-01-22 14:08:34 (17.2 MB/s) - ‘laptops.csv’ saved [298573/298573]\n",
            "\n"
          ]
        }
      ],
      "source": [
        "!wget https://raw.githubusercontent.com/alexeygrigorev/datasets/master/laptops.csv"
      ]
    },
    {
      "cell_type": "markdown",
      "source": [
        "## Questão 1\n",
        "\n",
        "Qual a mediana da coluna \"ram\"?"
      ],
      "metadata": {
        "id": "osfSGlhAWOcb"
      }
    },
    {
      "cell_type": "code",
      "source": [],
      "metadata": {
        "id": "KrlXU1epV566"
      },
      "execution_count": null,
      "outputs": []
    },
    {
      "cell_type": "markdown",
      "source": [
        "## Questão 2\n",
        "\n",
        "Separe o dataset em treino, validação e teste, utilizando a função [train_test_split](https://scikit-learn.org/stable/modules/generated/sklearn.model_selection.train_test_split.html). Sendo 60% do dataset para treino, 20% para validação e 20% para teste\n",
        "\n",
        "Obs: O conjunto de validação pode vir do de treino, se não tiver sido especificado"
      ],
      "metadata": {
        "id": "oEEmi40vYlVo"
      }
    },
    {
      "cell_type": "code",
      "source": [],
      "metadata": {
        "id": "1cgbaMhdYsCs"
      },
      "execution_count": null,
      "outputs": []
    },
    {
      "cell_type": "markdown",
      "source": [
        "## Pergunta 3\n",
        "\n",
        "Treine um modelo de regressão linear para predizer o preço de um laptop. Qual o RMSE no conjunto de treino, validação e teste? Quais são os coeficientes que foram aprendidos pelo modelo?"
      ],
      "metadata": {
        "id": "60yvJ8jIWVmJ"
      }
    },
    {
      "cell_type": "code",
      "source": [],
      "metadata": {
        "id": "ImE8k7NeWam8"
      },
      "execution_count": null,
      "outputs": []
    },
    {
      "cell_type": "markdown",
      "source": [
        "## Pergunta 4\n",
        "\n",
        "Treine um modelo de árvore de decisão para regressão para predizer o preço de um laptop. Qual o RMSE no conjunto de treino, validação e teste?\n",
        "\n",
        "Plote a árvore utilizando a função [plot_tree](https://scikit-learn.org/1.6/modules/generated/sklearn.tree.plot_tree.html)"
      ],
      "metadata": {
        "id": "awGqlG0iWhuM"
      }
    },
    {
      "cell_type": "code",
      "source": [],
      "metadata": {
        "id": "NcoHCg5uWmx2"
      },
      "execution_count": null,
      "outputs": []
    },
    {
      "cell_type": "markdown",
      "source": [
        "## Pergunta 5\n",
        "\n",
        "Qual dos modelos que você escolheria se fosse usar em um produto ou serviço que estivesse desenvolvendo?"
      ],
      "metadata": {
        "id": "zhbHRFlcWp7G"
      }
    },
    {
      "cell_type": "code",
      "source": [],
      "metadata": {
        "id": "RNkg7ls9Wufd"
      },
      "execution_count": null,
      "outputs": []
    },
    {
      "cell_type": "markdown",
      "source": [
        "## Pergunta 6\n",
        "\n",
        "Treine o modelo de árvore de decisão mais uma vez só que agora configure o parâmetro [*max_depth*](https://scikit-learn.org/stable/modules/generated/sklearn.tree.DecisionTreeRegressor.html) com sendo igual a 3. O que mudou nos erros de treino, teste e validação? Plote a árvore utilizando a função [plot_tree](https://scikit-learn.org/1.6/modules/generated/sklearn.tree.plot_tree.html) O que mudou na estrutura da árvore?"
      ],
      "metadata": {
        "id": "_NNk9YjGWvAz"
      }
    },
    {
      "cell_type": "code",
      "source": [],
      "metadata": {
        "id": "BAvlOZYqW27W"
      },
      "execution_count": null,
      "outputs": []
    },
    {
      "cell_type": "markdown",
      "source": [
        "## Pergunta 7\n",
        "\n",
        "Treine o modelo de regressão linear mais uma vez, mas desta vez use a cross validação com [cross_validate](https://scikit-learn.org/stable/modules/generated/sklearn.model_selection.cross_validate.html), erro sendo RMSE e cv=5. Qual o RMSE médio? Quais são os coeficientes aprendidos pelo melhor modelo de regressão linear?"
      ],
      "metadata": {
        "id": "iOLz6QNrW9XI"
      }
    },
    {
      "cell_type": "code",
      "source": [],
      "metadata": {
        "id": "8HHDH3IvXBdT"
      },
      "execution_count": null,
      "outputs": []
    },
    {
      "cell_type": "markdown",
      "source": [
        "## Pergunta 8\n",
        "\n",
        "Plote o resultado da função [make_blobs](https://scikit-learn.org/stable/modules/generated/sklearn.datasets.make_blobs.html) com os seguintes parâmetros\n",
        "\n",
        "make_blobs(n_samples=300, centers=4, cluster_std=0.3, random_state=0)"
      ],
      "metadata": {
        "id": "EoinaRJeXFC5"
      }
    },
    {
      "cell_type": "code",
      "source": [],
      "metadata": {
        "id": "RqtdzDuRXWSH"
      },
      "execution_count": null,
      "outputs": []
    },
    {
      "cell_type": "markdown",
      "source": [
        "## Pergunta 9\n",
        "\n",
        "Com os pontos gerados na questão 8 responda:\n",
        "\n",
        "\n",
        "\n",
        "*   Dada a performance do K-means, discora se é uma alternativa válida para esse dataset e porque\n",
        "*   Separe os dados entre treino e teste e retreine o K-means, com 80% dos dados para treino e 20% para teste. Ele consegue clusterizar de maneira satisfatória os dados de teste? Por que? Plote os resultados\n",
        "\n"
      ],
      "metadata": {
        "id": "JabZH_40XrY2"
      }
    },
    {
      "cell_type": "code",
      "source": [],
      "metadata": {
        "id": "MH_dVNmRX5Mx"
      },
      "execution_count": null,
      "outputs": []
    },
    {
      "cell_type": "markdown",
      "source": [
        "## Pergunta 10\n",
        "\n",
        "Utilize os dados da questão 8, dessa vez separando entre 80% para treino e 20% para teste, use score de silhueta através da função [silhouette_score](https://scikit-learn.org/1.6/modules/generated/sklearn.metrics.silhouette_score.html) para demonstrar como escolher a quantidade ideal de clusters\n",
        "\n"
      ],
      "metadata": {
        "id": "5dIWONaPX-cG"
      }
    },
    {
      "cell_type": "code",
      "source": [],
      "metadata": {
        "id": "n6BvNkCwYhai"
      },
      "execution_count": null,
      "outputs": []
    }
  ]
}